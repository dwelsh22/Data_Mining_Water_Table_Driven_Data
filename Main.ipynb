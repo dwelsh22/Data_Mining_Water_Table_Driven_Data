{
  "nbformat": 4,
  "nbformat_minor": 0,
  "metadata": {
    "colab": {
      "name": "Main",
      "provenance": [],
      "authorship_tag": "ABX9TyMlefBFxTa6ILHtf9MVb0n9",
      "include_colab_link": true
    },
    "kernelspec": {
      "name": "python3",
      "display_name": "Python 3"
    }
  },
  "cells": [
    {
      "cell_type": "markdown",
      "metadata": {
        "id": "view-in-github",
        "colab_type": "text"
      },
      "source": [
        "<a href=\"https://colab.research.google.com/github/dwelsh22/Data_Mining_Water_Table_Driven_Data/blob/master/Main.ipynb\" target=\"_parent\"><img src=\"https://colab.research.google.com/assets/colab-badge.svg\" alt=\"Open In Colab\"/></a>"
      ]
    },
    {
      "cell_type": "code",
      "metadata": {
        "id": "5nrfFD5-owoc",
        "colab_type": "code",
        "colab": {}
      },
      "source": [
        "import pandas as pd\n",
        "import seaborn as sns\n",
        "import matplotlib.pyplot as plt\n",
        "import numpy as np\n",
        "import researchpy as rp\n",
        "import scipy.stats as stats\n",
        "\n",
        "# Import and clean data\n",
        "training_set = pd.read_csv(\"training_set_values.csv\")\n",
        "training_labels = pd.read_csv(\"training_set_labels.csv\")\n",
        "\n",
        "# Clean Data\n",
        "training_set['date_recorded'] = [pd.Timestamp(date) for date in training_set['date_recorded']]\n",
        "training_set.set_index('id', drop=True, inplace=True)\n",
        "training_labels.set_index('id', drop=True, inplace=True)\n",
        "training_set['status_group'] = training_labels['status_group']\n",
        "\n",
        "print(rp.summary_cont(training_set['amount_tsh'].groupby(training_set['status_group'])))\n",
        "print(stats.f_oneway(training_set['amount_tsh'][training_set['status_group'] == 'functional'],\n",
        "               training_set['amount_tsh'][training_set['status_group'] == 'functional needs repair'],\n",
        "               training_set['amount_tsh'][training_set['status_group'] == 'non functional']))\n",
        "\n",
        "def generateCrosstab_chi_squared(test_against, test_series):\n",
        "    results = list()\n",
        "    for label, content in test_series.iteritems():\n",
        "        if content.dtype == 'object': #check datatype before performing check\n",
        "            crosstab, test_results, expected = rp.crosstab(test_against, content, test= \"chi-square\", expected_freqs= True, prop= \"cell\")\n",
        "            print(label + \": \" + str(test_results['results'][2])) #create a dataframe containing all Cramer's V\n",
        "            results.append((label, crosstab, test_results, expected))\n",
        "        else:\n",
        "            continue\n",
        "\n",
        "    return results\n",
        "\n",
        "def draw_box_plot():\n",
        "    # df_box = df.copy()\n",
        "    # training_set['date'] = df_box.index\n",
        "    # df_box.reset_index(inplace=True)\n",
        "    # df_box['year'] = [d.year for d in df_box.date]\n",
        "    # df_box['month'] = [d.strftime('%b') for d in df_box.date]\n",
        "    # df_box.month = pd.Categorical(df_box.month, categories=['Jan', 'Feb', 'Mar', 'Apr', 'May', 'Jun', 'Jul', 'Aug', 'Sep', 'Oct', 'Nov', 'Dec'], ordered=True)\n",
        "\n",
        "    fig, ax = plt.subplots(figsize=(16,6))\n",
        "    plt.ylim(1960, 2020)\n",
        "\n",
        "    ax = sns.boxplot(x='status_group', y='construction_year', data=training_set, ax=ax)\n",
        "    ax.set_xlabel('Functionality')\n",
        "    ax.set_ylabel('TSH')\n",
        "    ax.set_title('correlation graph')\n",
        "\n",
        "    # Save image and return fig (don't change this part)\n",
        "    fig.savefig('box_plot.png')\n",
        "    return fig\n",
        "\n",
        "draw_box_plot()\n",
        "\n",
        "# results = generateCrosstab_chi_squared(training_set['status_group'], training_set)\n",
        "\n",
        "training_set.drop(columns=['permit']) #0.0347\n",
        "training_set.drop(columns=['management_group']) #0.0492, also group of management, not needed\n",
        "training_set.drop(columns=['recorded_by']) #All one entry, completely useless\n",
        "training_set.drop(columns=['quality_group'])\n",
        "training_set.drop(columns=['quantity_group'])\n",
        "training_set.drop(columns=['payment_type'])\n",
        "training_set.drop(columns=['waterpoint_type_group'])\n",
        "\n",
        "# Correlation map\n",
        "# corr = training_set.corr(method='kendall')\n",
        "# print(corr)\n",
        "\n",
        "training_set = training_set.groupby(['status_group', 'amount_tsh', 'quantity_group', 'construction_year'], as_index=False).count()\n",
        "\n",
        "test_set = pd.read_csv(\"test_set_values.csv\")\n",
        "submission = pd.read_csv(\"SubmissionFormat.csv\")\n",
        "\n",
        "# find appropriate graph to determine what kind of regression and prediction needs to happen\n"
      ],
      "execution_count": null,
      "outputs": []
    }
  ]
}